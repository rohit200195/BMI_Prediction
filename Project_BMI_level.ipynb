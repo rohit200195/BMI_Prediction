{
  "nbformat": 4,
  "nbformat_minor": 0,
  "metadata": {
    "kernelspec": {
      "display_name": "Python 3",
      "language": "python",
      "name": "python3"
    },
    "language_info": {
      "codemirror_mode": {
        "name": "ipython",
        "version": 3
      },
      "file_extension": ".py",
      "mimetype": "text/x-python",
      "name": "python",
      "nbconvert_exporter": "python",
      "pygments_lexer": "ipython3",
      "version": "3.7.3"
    },
    "colab": {
      "name": "ProjectBMI_(2)_(1) (1).ipynb",
      "provenance": [],
      "collapsed_sections": []
    }
  },
  "cells": [
    {
      "cell_type": "markdown",
      "metadata": {
        "id": "6Ds-IU5nTe2k",
        "colab_type": "text"
      },
      "source": [
        "Case-Study Group-1"
      ]
    },
    {
      "cell_type": "markdown",
      "metadata": {
        "id": "iJkhGd16TsSz",
        "colab_type": "text"
      },
      "source": [
        "# **Problem Statement**: Prediction of health status based on BMI\n"
      ]
    },
    {
      "cell_type": "markdown",
      "metadata": {
        "id": "pe9G3mnocyM2",
        "colab_type": "text"
      },
      "source": [
        "**What is BMI?**\n",
        "\n",
        "The body mass index (BMI) is a measure that uses your height and weight to work out if your weight is healthy.\n",
        "\n",
        "If your BMI is:\n",
        "\n",
        "**below 12** – you are in the extreamly weak range\n",
        "\n",
        "**between 12 and 18.0** – you are in the Weak range\n",
        "\n",
        "**between 18.1 and 24.9** – you are in the healthy weight range\n",
        "\n",
        "**between 25 and 29.9** – you are in the overweight range\n",
        "\n",
        "**between 30 and 39.9** – you are in the obese range \n",
        "\n",
        "**more then 40** – you are in the extreamly obese range\n"
      ]
    },
    {
      "cell_type": "code",
      "metadata": {
        "id": "A_0fj1Y_TJoa",
        "colab_type": "code",
        "outputId": "366423dd-8f5e-4338-9bc5-179105ff6306",
        "colab": {
          "base_uri": "https://localhost:8080/",
          "height": 200
        }
      },
      "source": [
        "from IPython.display import Image\n",
        "Image(filename='/content/5e4dc52f-cf9f-4300-a08d-6dc75f67d625.jpg')"
      ],
      "execution_count": 2,
      "outputs": [
        {
          "output_type": "execute_result",
          "data": {
            "image/jpeg": "[encoded data removed]",
            "text/plain": [
              "<IPython.core.display.Image object>"
            ]
          },
          "metadata": {
            "tags": []
          },
          "execution_count": 2
        }
      ]
    },
    {
      "cell_type": "markdown",
      "metadata": {
        "id": "nU5V4Utkcbkh",
        "colab_type": "text"
      },
      "source": [
        "## **Data Preparation**\n",
        "Using Machine Learning to predict a person's health status and if it is other than normal he/she can take certain measures to get back to normal. The dataset has been taken from Kaggle The objective of the dataset is to diagnostically predict a person's health based on certain diagnostic measurements included in the dataset.The data consists information of both Females and Males."
      ]
    },
    {
      "cell_type": "markdown",
      "metadata": {
        "id": "OtFbIuw5UEAV",
        "colab_type": "text"
      },
      "source": [
        "We’ll be using Python and some of its popular data science related packages.\n",
        "\n",
        "1.Pandas: to read our data from a CSV file and manipulate it for further use.\n",
        "\n",
        "2.Numpy: to convert out data into a format suitable to feed our classification model.\n",
        "\n",
        "3.Seaborn and matplotlib: for visualizations."
      ]
    },
    {
      "cell_type": "code",
      "metadata": {
        "id": "svuI4nvBt0dE",
        "colab_type": "code",
        "colab": {}
      },
      "source": [
        "import numpy as np\n",
        "import matplotlib.pyplot as plt\n",
        "import pandas as pd\n",
        "from sklearn.linear_model import LinearRegression\n",
        "import seaborn as sns\n",
        "import matplotlib\n",
        "%matplotlib inline"
      ],
      "execution_count": 0,
      "outputs": []
    },
    {
      "cell_type": "code",
      "metadata": {
        "id": "jHyQpQYJytBi",
        "colab_type": "code",
        "colab": {}
      },
      "source": [
        "data = pd.read_csv('500_Person_Gender_Height_Weight_Index.csv')\n",
        "data_clean = pd.read_csv('500_Person_Gender_Height_Weight_Index.csv')"
      ],
      "execution_count": 0,
      "outputs": []
    },
    {
      "cell_type": "code",
      "metadata": {
        "id": "3_1_8EgDy43g",
        "colab_type": "code",
        "outputId": "d4666cd1-cf30-462e-9b09-9ed826074e2f",
        "colab": {
          "base_uri": "https://localhost:8080/",
          "height": 328
        }
      },
      "source": [
        "data.head(9)"
      ],
      "execution_count": 5,
      "outputs": [
        {
          "output_type": "execute_result",
          "data": {
            "text/html": [
              "<div>\n",
              "<style scoped>\n",
              "    .dataframe tbody tr th:only-of-type {\n",
              "        vertical-align: middle;\n",
              "    }\n",
              "\n",
              "    .dataframe tbody tr th {\n",
              "        vertical-align: top;\n",
              "    }\n",
              "\n",
              "    .dataframe thead th {\n",
              "        text-align: right;\n",
              "    }\n",
              "</style>\n",
              "<table border=\"1\" class=\"dataframe\">\n",
              "  <thead>\n",
              "    <tr style=\"text-align: right;\">\n",
              "      <th></th>\n",
              "      <th>Gender</th>\n",
              "      <th>Height</th>\n",
              "      <th>Weight</th>\n",
              "      <th>Index</th>\n",
              "    </tr>\n",
              "  </thead>\n",
              "  <tbody>\n",
              "    <tr>\n",
              "      <th>0</th>\n",
              "      <td>Male</td>\n",
              "      <td>174</td>\n",
              "      <td>96</td>\n",
              "      <td>4</td>\n",
              "    </tr>\n",
              "    <tr>\n",
              "      <th>1</th>\n",
              "      <td>Male</td>\n",
              "      <td>189</td>\n",
              "      <td>87</td>\n",
              "      <td>2</td>\n",
              "    </tr>\n",
              "    <tr>\n",
              "      <th>2</th>\n",
              "      <td>Female</td>\n",
              "      <td>185</td>\n",
              "      <td>110</td>\n",
              "      <td>4</td>\n",
              "    </tr>\n",
              "    <tr>\n",
              "      <th>3</th>\n",
              "      <td>Female</td>\n",
              "      <td>195</td>\n",
              "      <td>104</td>\n",
              "      <td>3</td>\n",
              "    </tr>\n",
              "    <tr>\n",
              "      <th>4</th>\n",
              "      <td>Male</td>\n",
              "      <td>149</td>\n",
              "      <td>61</td>\n",
              "      <td>3</td>\n",
              "    </tr>\n",
              "    <tr>\n",
              "      <th>5</th>\n",
              "      <td>Male</td>\n",
              "      <td>189</td>\n",
              "      <td>104</td>\n",
              "      <td>3</td>\n",
              "    </tr>\n",
              "    <tr>\n",
              "      <th>6</th>\n",
              "      <td>Male</td>\n",
              "      <td>147</td>\n",
              "      <td>92</td>\n",
              "      <td>5</td>\n",
              "    </tr>\n",
              "    <tr>\n",
              "      <th>7</th>\n",
              "      <td>Male</td>\n",
              "      <td>154</td>\n",
              "      <td>111</td>\n",
              "      <td>5</td>\n",
              "    </tr>\n",
              "    <tr>\n",
              "      <th>8</th>\n",
              "      <td>Male</td>\n",
              "      <td>174</td>\n",
              "      <td>90</td>\n",
              "      <td>3</td>\n",
              "    </tr>\n",
              "  </tbody>\n",
              "</table>\n",
              "</div>"
            ],
            "text/plain": [
              "   Gender  Height  Weight  Index\n",
              "0    Male     174      96      4\n",
              "1    Male     189      87      2\n",
              "2  Female     185     110      4\n",
              "3  Female     195     104      3\n",
              "4    Male     149      61      3\n",
              "5    Male     189     104      3\n",
              "6    Male     147      92      5\n",
              "7    Male     154     111      5\n",
              "8    Male     174      90      3"
            ]
          },
          "metadata": {
            "tags": []
          },
          "execution_count": 5
        }
      ]
    },
    {
      "cell_type": "markdown",
      "metadata": {
        "id": "eaWLs-laUKeU",
        "colab_type": "text"
      },
      "source": [
        "We have 500 entries with 3 features including a label"
      ]
    },
    {
      "cell_type": "code",
      "metadata": {
        "id": "lbwqiKxky6ug",
        "colab_type": "code",
        "outputId": "59a582e2-9eac-4591-88f9-517e44cf4acc",
        "colab": {
          "base_uri": "https://localhost:8080/",
          "height": 34
        }
      },
      "source": [
        "data.shape"
      ],
      "execution_count": 6,
      "outputs": [
        {
          "output_type": "execute_result",
          "data": {
            "text/plain": [
              "(500, 4)"
            ]
          },
          "metadata": {
            "tags": []
          },
          "execution_count": 6
        }
      ]
    },
    {
      "cell_type": "markdown",
      "metadata": {
        "id": "2H01x0XHUOUc",
        "colab_type": "text"
      },
      "source": [
        "There were No null values in the given dataset."
      ]
    },
    {
      "cell_type": "code",
      "metadata": {
        "id": "5teo2QiPzCYQ",
        "colab_type": "code",
        "outputId": "acda67dc-d10b-428d-d18b-7ea721e58fe6",
        "colab": {
          "base_uri": "https://localhost:8080/",
          "height": 102
        }
      },
      "source": [
        "data.isnull().any()"
      ],
      "execution_count": 7,
      "outputs": [
        {
          "output_type": "execute_result",
          "data": {
            "text/plain": [
              "Gender    False\n",
              "Height    False\n",
              "Weight    False\n",
              "Index     False\n",
              "dtype: bool"
            ]
          },
          "metadata": {
            "tags": []
          },
          "execution_count": 7
        }
      ]
    },
    {
      "cell_type": "code",
      "metadata": {
        "colab_type": "code",
        "id": "InU8okgWJmAN",
        "outputId": "39811d5d-5f04-40bf-d46c-f0919c05da3b",
        "colab": {
          "base_uri": "https://localhost:8080/",
          "height": 136
        }
      },
      "source": [
        "data['Index'].value_counts()"
      ],
      "execution_count": 8,
      "outputs": [
        {
          "output_type": "execute_result",
          "data": {
            "text/plain": [
              "5    198\n",
              "4    130\n",
              "2     69\n",
              "3     68\n",
              "1     22\n",
              "0     13\n",
              "Name: Index, dtype: int64"
            ]
          },
          "metadata": {
            "tags": []
          },
          "execution_count": 8
        }
      ]
    },
    {
      "cell_type": "markdown",
      "metadata": {
        "id": "sP9-55d46CTy",
        "colab_type": "text"
      },
      "source": [
        "IIn the given dataset we can see that there are 6 unique values for the health status i.e. (0 to 5).\n",
        "\n",
        "Where as '0' indicates The Person is extremely weak\n",
        "\n",
        "'1' indicates The Person is weak\n",
        "\n",
        "'2' indicates The Person is normal\n",
        "\n",
        "'3' indicates The Person is Overweight\n",
        "\n",
        "'4' indicates The Person is Obese\n",
        "\n",
        "'5' indicates The Person is 'Extreme Obese'.\n",
        "\n",
        "We will add an additional columns to our DataFrame as per need.\n",
        "\n",
        "\n",
        "BMI in an individual is calculated by the use of a mathematical formula. It can also be estimated using tables in which one can match height in inches to weight in pounds to estimate BMI. \n",
        "\n",
        "***The formula is - BMI = (Weight in kilograms) divided by (Height in metres squared)***"
      ]
    },
    {
      "cell_type": "code",
      "metadata": {
        "id": "FAoW3Z8EUYtE",
        "colab_type": "code",
        "outputId": "f3e0e816-0215-4cb1-8d96-7b99ee265656",
        "colab": {
          "base_uri": "https://localhost:8080/",
          "height": 419
        }
      },
      "source": [
        "data_clean['BMI'] = data_clean['Weight']/((data_clean['Height']/100)**2)\n",
        "data_clean "
      ],
      "execution_count": 9,
      "outputs": [
        {
          "output_type": "execute_result",
          "data": {
            "text/html": [
              "<div>\n",
              "<style scoped>\n",
              "    .dataframe tbody tr th:only-of-type {\n",
              "        vertical-align: middle;\n",
              "    }\n",
              "\n",
              "    .dataframe tbody tr th {\n",
              "        vertical-align: top;\n",
              "    }\n",
              "\n",
              "    .dataframe thead th {\n",
              "        text-align: right;\n",
              "    }\n",
              "</style>\n",
              "<table border=\"1\" class=\"dataframe\">\n",
              "  <thead>\n",
              "    <tr style=\"text-align: right;\">\n",
              "      <th></th>\n",
              "      <th>Gender</th>\n",
              "      <th>Height</th>\n",
              "      <th>Weight</th>\n",
              "      <th>Index</th>\n",
              "      <th>BMI</th>\n",
              "    </tr>\n",
              "  </thead>\n",
              "  <tbody>\n",
              "    <tr>\n",
              "      <th>0</th>\n",
              "      <td>Male</td>\n",
              "      <td>174</td>\n",
              "      <td>96</td>\n",
              "      <td>4</td>\n",
              "      <td>31.708284</td>\n",
              "    </tr>\n",
              "    <tr>\n",
              "      <th>1</th>\n",
              "      <td>Male</td>\n",
              "      <td>189</td>\n",
              "      <td>87</td>\n",
              "      <td>2</td>\n",
              "      <td>24.355421</td>\n",
              "    </tr>\n",
              "    <tr>\n",
              "      <th>2</th>\n",
              "      <td>Female</td>\n",
              "      <td>185</td>\n",
              "      <td>110</td>\n",
              "      <td>4</td>\n",
              "      <td>32.140248</td>\n",
              "    </tr>\n",
              "    <tr>\n",
              "      <th>3</th>\n",
              "      <td>Female</td>\n",
              "      <td>195</td>\n",
              "      <td>104</td>\n",
              "      <td>3</td>\n",
              "      <td>27.350427</td>\n",
              "    </tr>\n",
              "    <tr>\n",
              "      <th>4</th>\n",
              "      <td>Male</td>\n",
              "      <td>149</td>\n",
              "      <td>61</td>\n",
              "      <td>3</td>\n",
              "      <td>27.476240</td>\n",
              "    </tr>\n",
              "    <tr>\n",
              "      <th>...</th>\n",
              "      <td>...</td>\n",
              "      <td>...</td>\n",
              "      <td>...</td>\n",
              "      <td>...</td>\n",
              "      <td>...</td>\n",
              "    </tr>\n",
              "    <tr>\n",
              "      <th>495</th>\n",
              "      <td>Female</td>\n",
              "      <td>150</td>\n",
              "      <td>153</td>\n",
              "      <td>5</td>\n",
              "      <td>68.000000</td>\n",
              "    </tr>\n",
              "    <tr>\n",
              "      <th>496</th>\n",
              "      <td>Female</td>\n",
              "      <td>184</td>\n",
              "      <td>121</td>\n",
              "      <td>4</td>\n",
              "      <td>35.739603</td>\n",
              "    </tr>\n",
              "    <tr>\n",
              "      <th>497</th>\n",
              "      <td>Female</td>\n",
              "      <td>141</td>\n",
              "      <td>136</td>\n",
              "      <td>5</td>\n",
              "      <td>68.407022</td>\n",
              "    </tr>\n",
              "    <tr>\n",
              "      <th>498</th>\n",
              "      <td>Male</td>\n",
              "      <td>150</td>\n",
              "      <td>95</td>\n",
              "      <td>5</td>\n",
              "      <td>42.222222</td>\n",
              "    </tr>\n",
              "    <tr>\n",
              "      <th>499</th>\n",
              "      <td>Male</td>\n",
              "      <td>173</td>\n",
              "      <td>131</td>\n",
              "      <td>5</td>\n",
              "      <td>43.770256</td>\n",
              "    </tr>\n",
              "  </tbody>\n",
              "</table>\n",
              "<p>500 rows × 5 columns</p>\n",
              "</div>"
            ],
            "text/plain": [
              "     Gender  Height  Weight  Index        BMI\n",
              "0      Male     174      96      4  31.708284\n",
              "1      Male     189      87      2  24.355421\n",
              "2    Female     185     110      4  32.140248\n",
              "3    Female     195     104      3  27.350427\n",
              "4      Male     149      61      3  27.476240\n",
              "..      ...     ...     ...    ...        ...\n",
              "495  Female     150     153      5  68.000000\n",
              "496  Female     184     121      4  35.739603\n",
              "497  Female     141     136      5  68.407022\n",
              "498    Male     150      95      5  42.222222\n",
              "499    Male     173     131      5  43.770256\n",
              "\n",
              "[500 rows x 5 columns]"
            ]
          },
          "metadata": {
            "tags": []
          },
          "execution_count": 9
        }
      ]
    },
    {
      "cell_type": "code",
      "metadata": {
        "id": "l2C3qUzj3kZW",
        "colab_type": "code",
        "outputId": "13b9aecd-31c0-4d26-bda4-37fa8b80114c",
        "colab": {
          "base_uri": "https://localhost:8080/",
          "height": 204
        }
      },
      "source": [
        "def covert_bmi(x):\n",
        "    if x['Index'] == 0:\n",
        "        return 'Extremely Weak'\n",
        "    elif x['Index'] == 1:\n",
        "        return 'Weak'\n",
        "    elif x['Index'] == 2:\n",
        "        return 'Normal'\n",
        "    elif x['Index'] == 3:\n",
        "        return 'Overweight'\n",
        "    elif x['Index']== 4:\n",
        "        return 'Obesity'\n",
        "    elif x['Index'] == 5:\n",
        "        return 'Extreme Obesity'\n",
        "data_clean['Status'] = data_clean.apply(covert_bmi,axis=1)\n",
        "data_clean.head(5)\n"
      ],
      "execution_count": 10,
      "outputs": [
        {
          "output_type": "execute_result",
          "data": {
            "text/html": [
              "<div>\n",
              "<style scoped>\n",
              "    .dataframe tbody tr th:only-of-type {\n",
              "        vertical-align: middle;\n",
              "    }\n",
              "\n",
              "    .dataframe tbody tr th {\n",
              "        vertical-align: top;\n",
              "    }\n",
              "\n",
              "    .dataframe thead th {\n",
              "        text-align: right;\n",
              "    }\n",
              "</style>\n",
              "<table border=\"1\" class=\"dataframe\">\n",
              "  <thead>\n",
              "    <tr style=\"text-align: right;\">\n",
              "      <th></th>\n",
              "      <th>Gender</th>\n",
              "      <th>Height</th>\n",
              "      <th>Weight</th>\n",
              "      <th>Index</th>\n",
              "      <th>BMI</th>\n",
              "      <th>Status</th>\n",
              "    </tr>\n",
              "  </thead>\n",
              "  <tbody>\n",
              "    <tr>\n",
              "      <th>0</th>\n",
              "      <td>Male</td>\n",
              "      <td>174</td>\n",
              "      <td>96</td>\n",
              "      <td>4</td>\n",
              "      <td>31.708284</td>\n",
              "      <td>Obesity</td>\n",
              "    </tr>\n",
              "    <tr>\n",
              "      <th>1</th>\n",
              "      <td>Male</td>\n",
              "      <td>189</td>\n",
              "      <td>87</td>\n",
              "      <td>2</td>\n",
              "      <td>24.355421</td>\n",
              "      <td>Normal</td>\n",
              "    </tr>\n",
              "    <tr>\n",
              "      <th>2</th>\n",
              "      <td>Female</td>\n",
              "      <td>185</td>\n",
              "      <td>110</td>\n",
              "      <td>4</td>\n",
              "      <td>32.140248</td>\n",
              "      <td>Obesity</td>\n",
              "    </tr>\n",
              "    <tr>\n",
              "      <th>3</th>\n",
              "      <td>Female</td>\n",
              "      <td>195</td>\n",
              "      <td>104</td>\n",
              "      <td>3</td>\n",
              "      <td>27.350427</td>\n",
              "      <td>Overweight</td>\n",
              "    </tr>\n",
              "    <tr>\n",
              "      <th>4</th>\n",
              "      <td>Male</td>\n",
              "      <td>149</td>\n",
              "      <td>61</td>\n",
              "      <td>3</td>\n",
              "      <td>27.476240</td>\n",
              "      <td>Overweight</td>\n",
              "    </tr>\n",
              "  </tbody>\n",
              "</table>\n",
              "</div>"
            ],
            "text/plain": [
              "   Gender  Height  Weight  Index        BMI      Status\n",
              "0    Male     174      96      4  31.708284     Obesity\n",
              "1    Male     189      87      2  24.355421      Normal\n",
              "2  Female     185     110      4  32.140248     Obesity\n",
              "3  Female     195     104      3  27.350427  Overweight\n",
              "4    Male     149      61      3  27.476240  Overweight"
            ]
          },
          "metadata": {
            "tags": []
          },
          "execution_count": 10
        }
      ]
    },
    {
      "cell_type": "markdown",
      "metadata": {
        "id": "c7fbcEf7TRT8",
        "colab_type": "text"
      },
      "source": [
        "Coverting character values into numeric values."
      ]
    },
    {
      "cell_type": "code",
      "metadata": {
        "id": "40xYFtBZ7maf",
        "colab_type": "code",
        "outputId": "b69c53b1-4298-4bb9-f465-7a19ac4a63cd",
        "colab": {
          "base_uri": "https://localhost:8080/",
          "height": 204
        }
      },
      "source": [
        "def convert_genderto_values(x):\n",
        "    if x['Gender'] == 'Male':\n",
        "        return 1\n",
        "    elif x['Gender'] == 'Female':\n",
        "        return 0\n",
        "\n",
        "data_clean['gender_values'] = data_clean.apply(convert_genderto_values,axis=1)\n",
        "data_clean.head(5)\n"
      ],
      "execution_count": 11,
      "outputs": [
        {
          "output_type": "execute_result",
          "data": {
            "text/html": [
              "<div>\n",
              "<style scoped>\n",
              "    .dataframe tbody tr th:only-of-type {\n",
              "        vertical-align: middle;\n",
              "    }\n",
              "\n",
              "    .dataframe tbody tr th {\n",
              "        vertical-align: top;\n",
              "    }\n",
              "\n",
              "    .dataframe thead th {\n",
              "        text-align: right;\n",
              "    }\n",
              "</style>\n",
              "<table border=\"1\" class=\"dataframe\">\n",
              "  <thead>\n",
              "    <tr style=\"text-align: right;\">\n",
              "      <th></th>\n",
              "      <th>Gender</th>\n",
              "      <th>Height</th>\n",
              "      <th>Weight</th>\n",
              "      <th>Index</th>\n",
              "      <th>BMI</th>\n",
              "      <th>Status</th>\n",
              "      <th>gender_values</th>\n",
              "    </tr>\n",
              "  </thead>\n",
              "  <tbody>\n",
              "    <tr>\n",
              "      <th>0</th>\n",
              "      <td>Male</td>\n",
              "      <td>174</td>\n",
              "      <td>96</td>\n",
              "      <td>4</td>\n",
              "      <td>31.708284</td>\n",
              "      <td>Obesity</td>\n",
              "      <td>1</td>\n",
              "    </tr>\n",
              "    <tr>\n",
              "      <th>1</th>\n",
              "      <td>Male</td>\n",
              "      <td>189</td>\n",
              "      <td>87</td>\n",
              "      <td>2</td>\n",
              "      <td>24.355421</td>\n",
              "      <td>Normal</td>\n",
              "      <td>1</td>\n",
              "    </tr>\n",
              "    <tr>\n",
              "      <th>2</th>\n",
              "      <td>Female</td>\n",
              "      <td>185</td>\n",
              "      <td>110</td>\n",
              "      <td>4</td>\n",
              "      <td>32.140248</td>\n",
              "      <td>Obesity</td>\n",
              "      <td>0</td>\n",
              "    </tr>\n",
              "    <tr>\n",
              "      <th>3</th>\n",
              "      <td>Female</td>\n",
              "      <td>195</td>\n",
              "      <td>104</td>\n",
              "      <td>3</td>\n",
              "      <td>27.350427</td>\n",
              "      <td>Overweight</td>\n",
              "      <td>0</td>\n",
              "    </tr>\n",
              "    <tr>\n",
              "      <th>4</th>\n",
              "      <td>Male</td>\n",
              "      <td>149</td>\n",
              "      <td>61</td>\n",
              "      <td>3</td>\n",
              "      <td>27.476240</td>\n",
              "      <td>Overweight</td>\n",
              "      <td>1</td>\n",
              "    </tr>\n",
              "  </tbody>\n",
              "</table>\n",
              "</div>"
            ],
            "text/plain": [
              "   Gender  Height  Weight  Index        BMI      Status  gender_values\n",
              "0    Male     174      96      4  31.708284     Obesity              1\n",
              "1    Male     189      87      2  24.355421      Normal              1\n",
              "2  Female     185     110      4  32.140248     Obesity              0\n",
              "3  Female     195     104      3  27.350427  Overweight              0\n",
              "4    Male     149      61      3  27.476240  Overweight              1"
            ]
          },
          "metadata": {
            "tags": []
          },
          "execution_count": 11
        }
      ]
    },
    {
      "cell_type": "code",
      "metadata": {
        "id": "XzEuVE-RJ_wV",
        "colab_type": "code",
        "outputId": "f9afdfef-fffe-4382-8dea-dd7a01b93598",
        "colab": {
          "base_uri": "https://localhost:8080/",
          "height": 136
        }
      },
      "source": [
        "data_clean.Status.value_counts()"
      ],
      "execution_count": 12,
      "outputs": [
        {
          "output_type": "execute_result",
          "data": {
            "text/plain": [
              "Extreme Obesity    198\n",
              "Obesity            130\n",
              "Normal              69\n",
              "Overweight          68\n",
              "Weak                22\n",
              "Extremely Weak      13\n",
              "Name: Status, dtype: int64"
            ]
          },
          "metadata": {
            "tags": []
          },
          "execution_count": 12
        }
      ]
    },
    {
      "cell_type": "code",
      "metadata": {
        "id": "6LkL9niM84uO",
        "colab_type": "code",
        "outputId": "8438d700-4302-4f99-d503-cec64ddab817",
        "colab": {
          "base_uri": "https://localhost:8080/",
          "height": 654
        }
      },
      "source": [
        "sns.set_style('whitegrid')\n",
        "sns.lmplot( x='Height', y='Weight', data=data_clean, \n",
        "           fit_reg=False, \n",
        "           hue='Status', \n",
        "           legend=False, \n",
        "           palette='Set1',\n",
        "           size = 8, \n",
        "           aspect = 1\n",
        "          )\n",
        "\n",
        "ax1 = plt.gca()\n",
        "ax1.set_title('Height vs Weight', size=15)\n",
        "box = ax1.get_position()\n",
        "\n",
        "# Put a legend to the right of the current axis\n",
        "ax1.legend(loc='center left', bbox_to_anchor=(1, 0.5),prop={'size': 15})\n"
      ],
      "execution_count": 13,
      "outputs": [
        {
          "output_type": "stream",
          "text": [
            "/usr/local/lib/python3.6/dist-packages/seaborn/regression.py:574: UserWarning: The `size` parameter has been renamed to `height`; please update your code.\n",
            "  warnings.warn(msg, UserWarning)\n"
          ],
          "name": "stderr"
        },
        {
          "output_type": "execute_result",
          "data": {
            "text/plain": [
              "<matplotlib.legend.Legend at 0x7fd685bc60f0>"
            ]
          },
          "metadata": {
            "tags": []
          },
          "execution_count": 13
        },
        {
          "output_type": "display_data",
          "data": {
            "image/png": "[encoded data removed]",
            "text/plain": [
              "<Figure size 576x576 with 1 Axes>"
            ]
          },
          "metadata": {
            "tags": []
          }
        }
      ]
    },
    {
      "cell_type": "markdown",
      "metadata": {
        "id": "nDyq_zWAgqxr",
        "colab_type": "text"
      },
      "source": [
        "The above plot classifies the health status of the people according to height against weight\n"
      ]
    },
    {
      "cell_type": "code",
      "metadata": {
        "id": "AUe2XY-_BjRf",
        "colab_type": "code",
        "outputId": "ee5648db-5446-4387-9d10-df07c5c11a48",
        "colab": {
          "base_uri": "https://localhost:8080/",
          "height": 68
        }
      },
      "source": [
        "people = data_clean['Gender'].value_counts() \n",
        "print(people)"
      ],
      "execution_count": 14,
      "outputs": [
        {
          "output_type": "stream",
          "text": [
            "Female    255\n",
            "Male      245\n",
            "Name: Gender, dtype: int64\n"
          ],
          "name": "stdout"
        }
      ]
    },
    {
      "cell_type": "code",
      "metadata": {
        "id": "mcKPpcPqHXS7",
        "colab_type": "code",
        "outputId": "febda968-c7d3-4201-a695-eb97d61481f3",
        "colab": {
          "base_uri": "https://localhost:8080/",
          "height": 248
        }
      },
      "source": [
        "# Plot\n",
        "labels = 'Female', 'Male'\n",
        "sizes = [255, 245]\n",
        "colors = ['pink', 'lightskyblue']\n",
        "\n",
        "# Plot\n",
        "plt.pie(sizes,  colors=colors,labels=labels,\n",
        "autopct='%1.1f%%', shadow=True, startangle=140)\n",
        "\n",
        "plt.axis('equal')\n",
        "plt.show()"
      ],
      "execution_count": 15,
      "outputs": [
        {
          "output_type": "display_data",
          "data": {
            "image/png": "[encoded data removed]",
            "text/plain": [
              "<Figure size 432x288 with 1 Axes>"
            ]
          },
          "metadata": {
            "tags": []
          }
        }
      ]
    },
    {
      "cell_type": "code",
      "metadata": {
        "id": "acUOy-wIMrEp",
        "colab_type": "code",
        "outputId": "27f8f33f-54b8-47b3-8e23-153ddc4819e2",
        "colab": {
          "base_uri": "https://localhost:8080/",
          "height": 187
        }
      },
      "source": [
        "male_data = data_clean[data_clean['Gender'] == 'Male']\n",
        "Female_data = data_clean[data_clean['Gender'] == 'Female']\n",
        "data_visual_male_categories = male_data['Status'].value_counts() \n",
        "print(\"Count of BMI Status in male \\n \\n\")\n",
        "\n",
        "\n",
        "data_visual_male_categories"
      ],
      "execution_count": 16,
      "outputs": [
        {
          "output_type": "stream",
          "text": [
            "Count of BMI Status in male \n",
            " \n",
            "\n"
          ],
          "name": "stdout"
        },
        {
          "output_type": "execute_result",
          "data": {
            "text/plain": [
              "Extreme Obesity    105\n",
              "Obesity             59\n",
              "Overweight          32\n",
              "Normal              28\n",
              "Weak                15\n",
              "Extremely Weak       6\n",
              "Name: Status, dtype: int64"
            ]
          },
          "metadata": {
            "tags": []
          },
          "execution_count": 16
        }
      ]
    },
    {
      "cell_type": "code",
      "metadata": {
        "id": "ZatFSu8aQVAu",
        "colab_type": "code",
        "outputId": "a5ca3f40-6d23-44eb-d727-d18c4cccb787",
        "colab": {
          "base_uri": "https://localhost:8080/",
          "height": 187
        }
      },
      "source": [
        "data_visual_male_categories = male_data['Status'].value_counts() \n",
        "data_visual_male_categories\n",
        "\n",
        "print(\"Count of BMI Status in Female \\n \\n\")\n",
        "data_visual_female_categories  = Female_data['Status'].value_counts() \n",
        "data_visual_female_categories"
      ],
      "execution_count": 20,
      "outputs": [
        {
          "output_type": "stream",
          "text": [
            "Count of BMI Status in Female \n",
            " \n",
            "\n"
          ],
          "name": "stdout"
        },
        {
          "output_type": "execute_result",
          "data": {
            "text/plain": [
              "Extreme Obesity    93\n",
              "Obesity            71\n",
              "Normal             41\n",
              "Overweight         36\n",
              "Extremely Weak      7\n",
              "Weak                7\n",
              "Name: Status, dtype: int64"
            ]
          },
          "metadata": {
            "tags": []
          },
          "execution_count": 20
        }
      ]
    },
    {
      "cell_type": "code",
      "metadata": {
        "id": "UkAHNmnxMs7S",
        "colab_type": "code",
        "outputId": "0a018952-7eb5-43fd-b735-91aeebf74596",
        "colab": {
          "base_uri": "https://localhost:8080/",
          "height": 664
        }
      },
      "source": [
        "fig = plt.figure(figsize=(20,8))\n",
        "plt.title(\"Female BMI LEVEL\",loc='center',weight=10,size=15)\n",
        "plt.xticks([]) # to disable xticks\n",
        "plt.yticks([]) # to disable yticks\n",
        "\n",
        "# first pie-plot\n",
        "ax1 = fig.add_subplot(121)\n",
        "ax1.axis('equal')\n",
        "\n",
        "wedges, texts, autotexts =  ax1.pie(data_visual_female_categories,\n",
        "                                    radius=0.8,\n",
        "                                    \n",
        "                                    labels=['Extreme Obesity','Obesity','Normal','Overweight','Extremely Weak','Weak'],\n",
        "                                    autopct=\"%1.1f%%\",\n",
        "                                    pctdistance=0.45,\n",
        "                                    textprops=dict(color='k'),\n",
        "                                    wedgeprops = { 'linewidth' : 3, 'edgecolor' : 'w' }\n",
        "                                    )\n",
        "plt.setp(autotexts,size=17)\n",
        "plt.setp(texts,size=15)\n",
        "my_circle = plt.Circle((0,0),0.5,color='white')\n",
        "p = plt.gcf() # get current figure reference\n",
        "p.gca().add_artist(my_circle) # get current axes\n",
        "ax1(0,0,'Female',size=20,color='#1fa774',horizontalalignment='center',weight='bold')\n"
      ],
      "execution_count": 21,
      "outputs": [
        {
          "output_type": "error",
          "ename": "TypeError",
          "evalue": "ignored",
          "traceback": [
            "\u001b[0;31m---------------------------------------------------------------------------\u001b[0m",
            "\u001b[0;31mTypeError\u001b[0m                                 Traceback (most recent call last)",
            "\u001b[0;32m<ipython-input-21-44833d7bd14d>\u001b[0m in \u001b[0;36m<module>\u001b[0;34m()\u001b[0m\n\u001b[1;32m     22\u001b[0m \u001b[0mp\u001b[0m \u001b[0;34m=\u001b[0m \u001b[0mplt\u001b[0m\u001b[0;34m.\u001b[0m\u001b[0mgcf\u001b[0m\u001b[0;34m(\u001b[0m\u001b[0;34m)\u001b[0m \u001b[0;31m# get current figure reference\u001b[0m\u001b[0;34m\u001b[0m\u001b[0;34m\u001b[0m\u001b[0m\n\u001b[1;32m     23\u001b[0m \u001b[0mp\u001b[0m\u001b[0;34m.\u001b[0m\u001b[0mgca\u001b[0m\u001b[0;34m(\u001b[0m\u001b[0;34m)\u001b[0m\u001b[0;34m.\u001b[0m\u001b[0madd_artist\u001b[0m\u001b[0;34m(\u001b[0m\u001b[0mmy_circle\u001b[0m\u001b[0;34m)\u001b[0m \u001b[0;31m# get current axes\u001b[0m\u001b[0;34m\u001b[0m\u001b[0;34m\u001b[0m\u001b[0m\n\u001b[0;32m---> 24\u001b[0;31m \u001b[0max1\u001b[0m\u001b[0;34m(\u001b[0m\u001b[0;36m0\u001b[0m\u001b[0;34m,\u001b[0m\u001b[0;36m0\u001b[0m\u001b[0;34m,\u001b[0m\u001b[0;34m'Female'\u001b[0m\u001b[0;34m,\u001b[0m\u001b[0msize\u001b[0m\u001b[0;34m=\u001b[0m\u001b[0;36m20\u001b[0m\u001b[0;34m,\u001b[0m\u001b[0mcolor\u001b[0m\u001b[0;34m=\u001b[0m\u001b[0;34m'#1fa774'\u001b[0m\u001b[0;34m,\u001b[0m\u001b[0mhorizontalalignment\u001b[0m\u001b[0;34m=\u001b[0m\u001b[0;34m'center'\u001b[0m\u001b[0;34m,\u001b[0m\u001b[0mweight\u001b[0m\u001b[0;34m=\u001b[0m\u001b[0;34m'bold'\u001b[0m\u001b[0;34m)\u001b[0m\u001b[0;34m\u001b[0m\u001b[0;34m\u001b[0m\u001b[0m\n\u001b[0m",
            "\u001b[0;31mTypeError\u001b[0m: 'AxesSubplot' object is not callable"
          ]
        },
        {
          "output_type": "display_data",
          "data": {
            "image/png": "[encoded data removed]",
            "text/plain": [
              "<Figure size 1440x576 with 2 Axes>"
            ]
          },
          "metadata": {
            "tags": []
          }
        }
      ]
    },
    {
      "cell_type": "markdown",
      "metadata": {
        "id": "9umjFPQIY1R1",
        "colab_type": "text"
      },
      "source": [
        "Above chart represents the health status of Females that among all the females who has what status.According to the given data,most of the females are exteremely obese."
      ]
    },
    {
      "cell_type": "code",
      "metadata": {
        "id": "CJD47lLBPE17",
        "colab_type": "code",
        "colab": {}
      },
      "source": [
        "fig = plt.figure(figsize=(20,8))\n",
        "plt.title(\"Male BMI LEVEL\",loc='center',weight=10,size=15)\n",
        "plt.xticks([]) # to disable xticks\n",
        "plt.yticks([]) # to disable yticks\n",
        "\n",
        "# Second pie-plot\n",
        "ax2 = fig.add_subplot(121)\n",
        "ax2.axis('equal')\n",
        "\n",
        "wedges2, texts2, autotexts2 =  ax2.pie(data_visual_male_categories,\n",
        "                                    radius=0.8,\n",
        "                                    \n",
        "                                    labels=['Extreme Obesity','Obesity','Overweight','Normal','Weak','Extremely Weak'],\n",
        "                                    autopct=\"%1.1f%%\",\n",
        "                                    pctdistance=0.45,\n",
        "                                    textprops=dict(color='k'),\n",
        "                                    wedgeprops = { 'linewidth' : 3, 'edgecolor' : 'w' }\n",
        "                                    )\n",
        "plt.setp(autotexts2,size=17)\n",
        "plt.setp(texts2,size=15)\n",
        "my_circle = plt.Circle((0,0),0.5,color='white')\n",
        "p = plt.gcf() # get current figure reference\n",
        "p.gca().add_artist(my_circle) # get current axes\n",
        "ax2(0,0,'Male',size=20,color='#1fa774',horizontalalignment='center',weight='bold')\n"
      ],
      "execution_count": 0,
      "outputs": []
    },
    {
      "cell_type": "markdown",
      "metadata": {
        "id": "Ugm2Hxn3ZPT8",
        "colab_type": "text"
      },
      "source": [
        "Above chart represents the health status of Males that among all the males who has what status.According to the given data,most of the Males are exteremely obese."
      ]
    },
    {
      "cell_type": "markdown",
      "metadata": {
        "id": "xj07NWKvWunN",
        "colab_type": "text"
      },
      "source": [
        "**Training and Tuning the model**\n"
      ]
    },
    {
      "cell_type": "markdown",
      "metadata": {
        "id": "kmdhetCVbO_q",
        "colab_type": "text"
      },
      "source": [
        "**One HOT Encoding**\n",
        "\n",
        "\n",
        "One hot encoding is a process by which categorical variables are converted into a form that could be provided to ML algorithms to do a better performance in training the dataset.\n",
        "\n"
      ]
    },
    {
      "cell_type": "code",
      "metadata": {
        "id": "ru2eYy5cW4ya",
        "colab_type": "code",
        "outputId": "b3f50bdf-dfb9-4719-c9c6-031d0d0dabf9",
        "colab": {
          "base_uri": "https://localhost:8080/",
          "height": 419
        }
      },
      "source": [
        "one_hot_data = pd.concat([data_clean, pd.get_dummies(data_clean['Gender'], prefix='gender')], axis=1)\n",
        "one_hot_data"
      ],
      "execution_count": 22,
      "outputs": [
        {
          "output_type": "execute_result",
          "data": {
            "text/html": [
              "<div>\n",
              "<style scoped>\n",
              "    .dataframe tbody tr th:only-of-type {\n",
              "        vertical-align: middle;\n",
              "    }\n",
              "\n",
              "    .dataframe tbody tr th {\n",
              "        vertical-align: top;\n",
              "    }\n",
              "\n",
              "    .dataframe thead th {\n",
              "        text-align: right;\n",
              "    }\n",
              "</style>\n",
              "<table border=\"1\" class=\"dataframe\">\n",
              "  <thead>\n",
              "    <tr style=\"text-align: right;\">\n",
              "      <th></th>\n",
              "      <th>Gender</th>\n",
              "      <th>Height</th>\n",
              "      <th>Weight</th>\n",
              "      <th>Index</th>\n",
              "      <th>BMI</th>\n",
              "      <th>Status</th>\n",
              "      <th>gender_values</th>\n",
              "      <th>gender_Female</th>\n",
              "      <th>gender_Male</th>\n",
              "    </tr>\n",
              "  </thead>\n",
              "  <tbody>\n",
              "    <tr>\n",
              "      <th>0</th>\n",
              "      <td>Male</td>\n",
              "      <td>174</td>\n",
              "      <td>96</td>\n",
              "      <td>4</td>\n",
              "      <td>31.708284</td>\n",
              "      <td>Obesity</td>\n",
              "      <td>1</td>\n",
              "      <td>0</td>\n",
              "      <td>1</td>\n",
              "    </tr>\n",
              "    <tr>\n",
              "      <th>1</th>\n",
              "      <td>Male</td>\n",
              "      <td>189</td>\n",
              "      <td>87</td>\n",
              "      <td>2</td>\n",
              "      <td>24.355421</td>\n",
              "      <td>Normal</td>\n",
              "      <td>1</td>\n",
              "      <td>0</td>\n",
              "      <td>1</td>\n",
              "    </tr>\n",
              "    <tr>\n",
              "      <th>2</th>\n",
              "      <td>Female</td>\n",
              "      <td>185</td>\n",
              "      <td>110</td>\n",
              "      <td>4</td>\n",
              "      <td>32.140248</td>\n",
              "      <td>Obesity</td>\n",
              "      <td>0</td>\n",
              "      <td>1</td>\n",
              "      <td>0</td>\n",
              "    </tr>\n",
              "    <tr>\n",
              "      <th>3</th>\n",
              "      <td>Female</td>\n",
              "      <td>195</td>\n",
              "      <td>104</td>\n",
              "      <td>3</td>\n",
              "      <td>27.350427</td>\n",
              "      <td>Overweight</td>\n",
              "      <td>0</td>\n",
              "      <td>1</td>\n",
              "      <td>0</td>\n",
              "    </tr>\n",
              "    <tr>\n",
              "      <th>4</th>\n",
              "      <td>Male</td>\n",
              "      <td>149</td>\n",
              "      <td>61</td>\n",
              "      <td>3</td>\n",
              "      <td>27.476240</td>\n",
              "      <td>Overweight</td>\n",
              "      <td>1</td>\n",
              "      <td>0</td>\n",
              "      <td>1</td>\n",
              "    </tr>\n",
              "    <tr>\n",
              "      <th>...</th>\n",
              "      <td>...</td>\n",
              "      <td>...</td>\n",
              "      <td>...</td>\n",
              "      <td>...</td>\n",
              "      <td>...</td>\n",
              "      <td>...</td>\n",
              "      <td>...</td>\n",
              "      <td>...</td>\n",
              "      <td>...</td>\n",
              "    </tr>\n",
              "    <tr>\n",
              "      <th>495</th>\n",
              "      <td>Female</td>\n",
              "      <td>150</td>\n",
              "      <td>153</td>\n",
              "      <td>5</td>\n",
              "      <td>68.000000</td>\n",
              "      <td>Extreme Obesity</td>\n",
              "      <td>0</td>\n",
              "      <td>1</td>\n",
              "      <td>0</td>\n",
              "    </tr>\n",
              "    <tr>\n",
              "      <th>496</th>\n",
              "      <td>Female</td>\n",
              "      <td>184</td>\n",
              "      <td>121</td>\n",
              "      <td>4</td>\n",
              "      <td>35.739603</td>\n",
              "      <td>Obesity</td>\n",
              "      <td>0</td>\n",
              "      <td>1</td>\n",
              "      <td>0</td>\n",
              "    </tr>\n",
              "    <tr>\n",
              "      <th>497</th>\n",
              "      <td>Female</td>\n",
              "      <td>141</td>\n",
              "      <td>136</td>\n",
              "      <td>5</td>\n",
              "      <td>68.407022</td>\n",
              "      <td>Extreme Obesity</td>\n",
              "      <td>0</td>\n",
              "      <td>1</td>\n",
              "      <td>0</td>\n",
              "    </tr>\n",
              "    <tr>\n",
              "      <th>498</th>\n",
              "      <td>Male</td>\n",
              "      <td>150</td>\n",
              "      <td>95</td>\n",
              "      <td>5</td>\n",
              "      <td>42.222222</td>\n",
              "      <td>Extreme Obesity</td>\n",
              "      <td>1</td>\n",
              "      <td>0</td>\n",
              "      <td>1</td>\n",
              "    </tr>\n",
              "    <tr>\n",
              "      <th>499</th>\n",
              "      <td>Male</td>\n",
              "      <td>173</td>\n",
              "      <td>131</td>\n",
              "      <td>5</td>\n",
              "      <td>43.770256</td>\n",
              "      <td>Extreme Obesity</td>\n",
              "      <td>1</td>\n",
              "      <td>0</td>\n",
              "      <td>1</td>\n",
              "    </tr>\n",
              "  </tbody>\n",
              "</table>\n",
              "<p>500 rows × 9 columns</p>\n",
              "</div>"
            ],
            "text/plain": [
              "     Gender  Height  Weight  ...  gender_values  gender_Female gender_Male\n",
              "0      Male     174      96  ...              1              0           1\n",
              "1      Male     189      87  ...              1              0           1\n",
              "2    Female     185     110  ...              0              1           0\n",
              "3    Female     195     104  ...              0              1           0\n",
              "4      Male     149      61  ...              1              0           1\n",
              "..      ...     ...     ...  ...            ...            ...         ...\n",
              "495  Female     150     153  ...              0              1           0\n",
              "496  Female     184     121  ...              0              1           0\n",
              "497  Female     141     136  ...              0              1           0\n",
              "498    Male     150      95  ...              1              0           1\n",
              "499    Male     173     131  ...              1              0           1\n",
              "\n",
              "[500 rows x 9 columns]"
            ]
          },
          "metadata": {
            "tags": []
          },
          "execution_count": 22
        }
      ]
    },
    {
      "cell_type": "code",
      "metadata": {
        "id": "MkJOaMOtY5YR",
        "colab_type": "code",
        "outputId": "893cef54-e1ca-4295-ea25-e6e2d36002a1",
        "colab": {
          "base_uri": "https://localhost:8080/",
          "height": 419
        }
      },
      "source": [
        "one_hot_data1 = one_hot_data.drop('Gender', axis=1)\n",
        "one_hot_data2 = one_hot_data1.drop('Status', axis=1)\n",
        "one_hot_data3 = one_hot_data2.drop('gender_values', axis=1)\n",
        "one_hot_data3[:10]\n",
        "\n",
        "\n",
        "df1 = pd.DataFrame(one_hot_data3)\n",
        "\n",
        "df1 = df1[['gender_Female', 'gender_Male', 'Height', 'Weight', 'Index']]\n",
        "df1"
      ],
      "execution_count": 23,
      "outputs": [
        {
          "output_type": "execute_result",
          "data": {
            "text/html": [
              "<div>\n",
              "<style scoped>\n",
              "    .dataframe tbody tr th:only-of-type {\n",
              "        vertical-align: middle;\n",
              "    }\n",
              "\n",
              "    .dataframe tbody tr th {\n",
              "        vertical-align: top;\n",
              "    }\n",
              "\n",
              "    .dataframe thead th {\n",
              "        text-align: right;\n",
              "    }\n",
              "</style>\n",
              "<table border=\"1\" class=\"dataframe\">\n",
              "  <thead>\n",
              "    <tr style=\"text-align: right;\">\n",
              "      <th></th>\n",
              "      <th>gender_Female</th>\n",
              "      <th>gender_Male</th>\n",
              "      <th>Height</th>\n",
              "      <th>Weight</th>\n",
              "      <th>Index</th>\n",
              "    </tr>\n",
              "  </thead>\n",
              "  <tbody>\n",
              "    <tr>\n",
              "      <th>0</th>\n",
              "      <td>0</td>\n",
              "      <td>1</td>\n",
              "      <td>174</td>\n",
              "      <td>96</td>\n",
              "      <td>4</td>\n",
              "    </tr>\n",
              "    <tr>\n",
              "      <th>1</th>\n",
              "      <td>0</td>\n",
              "      <td>1</td>\n",
              "      <td>189</td>\n",
              "      <td>87</td>\n",
              "      <td>2</td>\n",
              "    </tr>\n",
              "    <tr>\n",
              "      <th>2</th>\n",
              "      <td>1</td>\n",
              "      <td>0</td>\n",
              "      <td>185</td>\n",
              "      <td>110</td>\n",
              "      <td>4</td>\n",
              "    </tr>\n",
              "    <tr>\n",
              "      <th>3</th>\n",
              "      <td>1</td>\n",
              "      <td>0</td>\n",
              "      <td>195</td>\n",
              "      <td>104</td>\n",
              "      <td>3</td>\n",
              "    </tr>\n",
              "    <tr>\n",
              "      <th>4</th>\n",
              "      <td>0</td>\n",
              "      <td>1</td>\n",
              "      <td>149</td>\n",
              "      <td>61</td>\n",
              "      <td>3</td>\n",
              "    </tr>\n",
              "    <tr>\n",
              "      <th>...</th>\n",
              "      <td>...</td>\n",
              "      <td>...</td>\n",
              "      <td>...</td>\n",
              "      <td>...</td>\n",
              "      <td>...</td>\n",
              "    </tr>\n",
              "    <tr>\n",
              "      <th>495</th>\n",
              "      <td>1</td>\n",
              "      <td>0</td>\n",
              "      <td>150</td>\n",
              "      <td>153</td>\n",
              "      <td>5</td>\n",
              "    </tr>\n",
              "    <tr>\n",
              "      <th>496</th>\n",
              "      <td>1</td>\n",
              "      <td>0</td>\n",
              "      <td>184</td>\n",
              "      <td>121</td>\n",
              "      <td>4</td>\n",
              "    </tr>\n",
              "    <tr>\n",
              "      <th>497</th>\n",
              "      <td>1</td>\n",
              "      <td>0</td>\n",
              "      <td>141</td>\n",
              "      <td>136</td>\n",
              "      <td>5</td>\n",
              "    </tr>\n",
              "    <tr>\n",
              "      <th>498</th>\n",
              "      <td>0</td>\n",
              "      <td>1</td>\n",
              "      <td>150</td>\n",
              "      <td>95</td>\n",
              "      <td>5</td>\n",
              "    </tr>\n",
              "    <tr>\n",
              "      <th>499</th>\n",
              "      <td>0</td>\n",
              "      <td>1</td>\n",
              "      <td>173</td>\n",
              "      <td>131</td>\n",
              "      <td>5</td>\n",
              "    </tr>\n",
              "  </tbody>\n",
              "</table>\n",
              "<p>500 rows × 5 columns</p>\n",
              "</div>"
            ],
            "text/plain": [
              "     gender_Female  gender_Male  Height  Weight  Index\n",
              "0                0            1     174      96      4\n",
              "1                0            1     189      87      2\n",
              "2                1            0     185     110      4\n",
              "3                1            0     195     104      3\n",
              "4                0            1     149      61      3\n",
              "..             ...          ...     ...     ...    ...\n",
              "495              1            0     150     153      5\n",
              "496              1            0     184     121      4\n",
              "497              1            0     141     136      5\n",
              "498              0            1     150      95      5\n",
              "499              0            1     173     131      5\n",
              "\n",
              "[500 rows x 5 columns]"
            ]
          },
          "metadata": {
            "tags": []
          },
          "execution_count": 23
        }
      ]
    },
    {
      "cell_type": "code",
      "metadata": {
        "id": "TH6r5d0IbBHP",
        "colab_type": "code",
        "colab": {}
      },
      "source": [
        "df = pd.DataFrame(one_hot_data3)\n",
        "df = df[['gender_Female', 'gender_Male', 'Height', 'Weight', 'Index']]\n"
      ],
      "execution_count": 0,
      "outputs": []
    },
    {
      "cell_type": "markdown",
      "metadata": {
        "id": "-2Rf9nbQQS7X",
        "colab_type": "text"
      },
      "source": [
        "Standardizing"
      ]
    },
    {
      "cell_type": "code",
      "metadata": {
        "id": "S1XKzNvSczzV",
        "colab_type": "code",
        "outputId": "f73497de-f13f-4e73-f1b5-44dc6e94e976",
        "colab": {
          "base_uri": "https://localhost:8080/",
          "height": 204
        }
      },
      "source": [
        "from sklearn.preprocessing import StandardScaler\n",
        "std_sc = StandardScaler()\n",
        "df.iloc[:,0:-1] = std_sc.fit_transform(df.iloc[:,0:-1])\n",
        "df.head()"
      ],
      "execution_count": 25,
      "outputs": [
        {
          "output_type": "execute_result",
          "data": {
            "text/html": [
              "<div>\n",
              "<style scoped>\n",
              "    .dataframe tbody tr th:only-of-type {\n",
              "        vertical-align: middle;\n",
              "    }\n",
              "\n",
              "    .dataframe tbody tr th {\n",
              "        vertical-align: top;\n",
              "    }\n",
              "\n",
              "    .dataframe thead th {\n",
              "        text-align: right;\n",
              "    }\n",
              "</style>\n",
              "<table border=\"1\" class=\"dataframe\">\n",
              "  <thead>\n",
              "    <tr style=\"text-align: right;\">\n",
              "      <th></th>\n",
              "      <th>gender_Female</th>\n",
              "      <th>gender_Male</th>\n",
              "      <th>Height</th>\n",
              "      <th>Weight</th>\n",
              "      <th>Index</th>\n",
              "    </tr>\n",
              "  </thead>\n",
              "  <tbody>\n",
              "    <tr>\n",
              "      <th>0</th>\n",
              "      <td>-1.020204</td>\n",
              "      <td>1.020204</td>\n",
              "      <td>0.247939</td>\n",
              "      <td>-0.309117</td>\n",
              "      <td>4</td>\n",
              "    </tr>\n",
              "    <tr>\n",
              "      <th>1</th>\n",
              "      <td>-1.020204</td>\n",
              "      <td>1.020204</td>\n",
              "      <td>1.164872</td>\n",
              "      <td>-0.587322</td>\n",
              "      <td>2</td>\n",
              "    </tr>\n",
              "    <tr>\n",
              "      <th>2</th>\n",
              "      <td>0.980196</td>\n",
              "      <td>-0.980196</td>\n",
              "      <td>0.920357</td>\n",
              "      <td>0.123647</td>\n",
              "      <td>4</td>\n",
              "    </tr>\n",
              "    <tr>\n",
              "      <th>3</th>\n",
              "      <td>0.980196</td>\n",
              "      <td>-0.980196</td>\n",
              "      <td>1.531645</td>\n",
              "      <td>-0.061823</td>\n",
              "      <td>3</td>\n",
              "    </tr>\n",
              "    <tr>\n",
              "      <th>4</th>\n",
              "      <td>-1.020204</td>\n",
              "      <td>1.020204</td>\n",
              "      <td>-1.280283</td>\n",
              "      <td>-1.391027</td>\n",
              "      <td>3</td>\n",
              "    </tr>\n",
              "  </tbody>\n",
              "</table>\n",
              "</div>"
            ],
            "text/plain": [
              "   gender_Female  gender_Male    Height    Weight  Index\n",
              "0      -1.020204     1.020204  0.247939 -0.309117      4\n",
              "1      -1.020204     1.020204  1.164872 -0.587322      2\n",
              "2       0.980196    -0.980196  0.920357  0.123647      4\n",
              "3       0.980196    -0.980196  1.531645 -0.061823      3\n",
              "4      -1.020204     1.020204 -1.280283 -1.391027      3"
            ]
          },
          "metadata": {
            "tags": []
          },
          "execution_count": 25
        }
      ]
    },
    {
      "cell_type": "markdown",
      "metadata": {
        "id": "NicSEuppeh8Z",
        "colab_type": "text"
      },
      "source": [
        "Splitting up the data\n"
      ]
    },
    {
      "cell_type": "code",
      "metadata": {
        "id": "qm0Qw0OhdB6P",
        "colab_type": "code",
        "colab": {}
      },
      "source": [
        "y = df['Index']\n",
        "X = df.drop(['Index'],axis=1)\n",
        "\n",
        "y1 = df1['Index']\n",
        "X1 = df1.drop(['Index'],axis=1)\n",
        "\n"
      ],
      "execution_count": 0,
      "outputs": []
    },
    {
      "cell_type": "code",
      "metadata": {
        "id": "X3vpkU0vG0Or",
        "colab_type": "code",
        "colab": {}
      },
      "source": [
        "from sklearn.ensemble import RandomForestClassifier\n",
        "from sklearn.model_selection import train_test_split, RandomizedSearchCV\n",
        "X_train, X_test, y_train, y_test = train_test_split(X1,y1,test_size = 0.33, random_state=0)\n",
        "\n",
        "# build a classifier\n",
        "clf_rf = RandomForestClassifier()\n",
        "\n",
        "# Set up the hyperparameter search\n",
        "param_dist = {\"max_depth\": [3, None],\n",
        "              \"n_estimators\": list(range(10, 200)),\n",
        "              \"max_features\": list(range(1, X_test.shape[1]+1)),\n",
        "              \"min_samples_split\": list(range(2, 11)),\n",
        "              \"min_samples_leaf\": list(range(1, 11)),\n",
        "              \"bootstrap\": [True, False],\n",
        "              \"criterion\": [\"entropy\"]}\n",
        "\n",
        "\n",
        "# Run a randomized search over the hyperparameters\n",
        "random_search = RandomizedSearchCV(clf_rf, param_distributions=param_dist)\n",
        "\n",
        "# Fit the model on the training data\n",
        "random_search.fit(X_train, y_train)\n",
        "\n",
        "# y_pred_rfc = clf_rf.fit(X_train, y_train)\n",
        "# y_pred_rfc = clf_rf.predict(X_test)\n",
        "\n",
        "# Make predictions on the test data\n",
        "rf_preds = random_search.best_estimator_.predict(X_test)\n",
        "\n",
        "from sklearn.metrics import accuracy_score\n",
        "rf1_acc = accuracy_score(y_test, rf_preds)\n"
      ],
      "execution_count": 0,
      "outputs": []
    },
    {
      "cell_type": "code",
      "metadata": {
        "id": "q5enMJ5MkUq-",
        "colab_type": "code",
        "outputId": "aa4c4d77-4753-4eb3-cd1b-7cbe7130d332",
        "colab": {
          "base_uri": "https://localhost:8080/",
          "height": 34
        }
      },
      "source": [
        "print(\"accuracy of model  is : \",rf1_acc*100)"
      ],
      "execution_count": 29,
      "outputs": [
        {
          "output_type": "stream",
          "text": [
            "accuracy of model  is :  85.45454545454545\n"
          ],
          "name": "stdout"
        }
      ]
    },
    {
      "cell_type": "code",
      "metadata": {
        "id": "oPCJTSaV1YuK",
        "colab_type": "code",
        "outputId": "f2861d41-985e-4aa2-8adc-51b2fe36e172",
        "colab": {
          "base_uri": "https://localhost:8080/",
          "height": 85
        }
      },
      "source": [
        "l = []\n",
        "fem=input(\"Enter gender :\")\n",
        "hei=input(\"Enter the Height in cm:\")\n",
        "wei=input(\"Enter the Weight in kg:\")\n",
        "\n",
        "if(fem=='female' or fem=='Female' or fem=='f'):\n",
        "    l.insert( 0, 1)\n",
        "    l.insert( 1, 0)\n",
        "else:\n",
        "    l.insert( 0, 0)\n",
        "    l.insert( 1, 1)\n",
        "\n",
        "\n",
        "\n",
        "# l.append(fem)\n",
        "# l.append(male)\n",
        "l.insert( 2, hei)\n",
        "l.insert( 3, wei)\n",
        "# print(l)\n",
        "ada_preds = random_search.best_estimator_.predict([l])\n",
        "def result(ada_preds):\n",
        "    if ada_preds == 0:\n",
        "        return 'Extremely Weak'\n",
        "    elif ada_preds == 1:\n",
        "        return 'Weak'\n",
        "    elif ada_preds == 2:\n",
        "        return 'Normal'\n",
        "    elif ada_preds == 3:\n",
        "        return 'Overweight'\n",
        "    elif ada_preds == 4:\n",
        "        return 'Obesity'\n",
        "    elif ada_preds == 5:\n",
        "        return 'Extreme Obesity'\n",
        "\n",
        "result(ada_preds)\n"
      ],
      "execution_count": 30,
      "outputs": [
        {
          "output_type": "stream",
          "text": [
            "Enter gender :f\n",
            "Enter the Height in cm:198\n",
            "Enter the Weight in kg:78\n"
          ],
          "name": "stdout"
        },
        {
          "output_type": "execute_result",
          "data": {
            "text/plain": [
              "'Normal'"
            ]
          },
          "metadata": {
            "tags": []
          },
          "execution_count": 30
        }
      ]
    },
    {
      "cell_type": "markdown",
      "metadata": {
        "id": "HyTvJ4C8VO51",
        "colab_type": "text"
      },
      "source": [
        "**Conclusion:**\n",
        "In future we can predict the state of a person based on given dataset.\n",
        "\n",
        "\n",
        "According to a person's height and weight by calculating BMI, we can predict if he/she is weak,extremely weak,healthy,obese or extremely obese\n"
      ]
    },
    {
      "cell_type": "code",
      "metadata": {
        "id": "unBK4RHfSh8-",
        "colab_type": "code",
        "colab": {}
      },
      "source": [
        ""
      ],
      "execution_count": 0,
      "outputs": []
    }
  ]
}